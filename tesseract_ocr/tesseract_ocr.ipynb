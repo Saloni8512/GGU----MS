{
 "cells": [
  {
   "cell_type": "markdown",
   "metadata": {},
   "source": [
    "# Tesseract OCR\n",
    "\n",
    "Currently takes an image file in pdf form and exports a word document of text.  \n",
    "\n",
    "https://www.ghostscript.com/download/gsdnld.html\n",
    "\n",
    "http://docs.wand-py.org/en/0.4.1/guide/install.html#install-imagemagick-windows    "
   ]
  },
  {
   "cell_type": "markdown",
   "metadata": {},
   "source": [
    "#Need install:\n",
    "\n",
    "tesseract  \n",
    "wang  \n",
    "imagemagick  \n",
    "docx  \n",
    "ghostscript\n",
    "\n",
    "#Set:  \n",
    "\n",
    "contract_path variables to location of pdf image files  \n"
   ]
  },
  {
   "cell_type": "code",
   "execution_count": 1,
   "metadata": {},
   "outputs": [],
   "source": [
    "import io\n",
    "from PIL import Image\n",
    "import pytesseract\n",
    "from wand.image import Image as wi\n",
    "\n",
    "from os import listdir\n",
    "from os.path import isfile, join\n",
    "\n",
    "import docx"
   ]
  },
  {
   "cell_type": "code",
   "execution_count": 2,
   "metadata": {},
   "outputs": [],
   "source": [
    "#create contract list\n",
    "contract_path = 'C:\\\\Users\\\\Hello\\\\Desktop\\\\metric_stream\\\\v0.030\\\\tesseract_ocr\\\\data\\\\'\n",
    "contract_names = listdir(contract_path)\n",
    "\n",
    "for i in range(0,len(contract_names)):\n",
    "\n",
    "    contract_files = [contract_path + f for f in listdir(contract_path) if isfile(join(contract_path, f))]\n",
    "    file_name_list = [f for f in listdir(contract_path)]\n",
    "    contract_number = i"
   ]
  },
  {
   "cell_type": "code",
   "execution_count": 4,
   "metadata": {},
   "outputs": [],
   "source": [
    "for i in range(0,len(contract_names)):\n",
    "\n",
    "    contract_files = [contract_path + f for f in listdir(contract_path) if isfile(join(contract_path, f))]\n",
    "    file_name_list = [f for f in listdir(contract_path)]\n",
    "    contract_number = i\n",
    "    \n",
    "    image_input_pdf = contract_files[i]\n",
    "\n",
    "    pdf = wi(filename = image_input_pdf, resolution = 300)\n",
    "    pdfImg = pdf.convert('png')\n",
    "\n",
    "    imgBlobs = []\n",
    "\n",
    "    for img in pdfImg.sequence:\n",
    "        page = wi(image = img)\n",
    "        imgBlobs.append(page.make_blob('png'))\n",
    "\n",
    "    extracted_text = []\n",
    "\n",
    "    for imgBlob in imgBlobs:\n",
    "        im = Image.open(io.BytesIO(imgBlob))\n",
    "        text = pytesseract.image_to_string(im, lang = \"eng\")\n",
    "        extracted_text.append(text)   \n",
    "        \n",
    "    for txt in extracted_text:\n",
    "        mydoc = docx.Document()\n",
    "        mydoc.add_paragraph(txt)\n",
    "     \n",
    "    file_output = f'{file_name_list[i]}_txt_output.docx'\n",
    "    mydoc.save(file_output)\n",
    "    "
   ]
  }
 ],
 "metadata": {
  "kernelspec": {
   "display_name": "Python 3",
   "language": "python",
   "name": "python3"
  },
  "language_info": {
   "codemirror_mode": {
    "name": "ipython",
    "version": 3
   },
   "file_extension": ".py",
   "mimetype": "text/x-python",
   "name": "python",
   "nbconvert_exporter": "python",
   "pygments_lexer": "ipython3",
   "version": "3.7.4"
  }
 },
 "nbformat": 4,
 "nbformat_minor": 2
}
