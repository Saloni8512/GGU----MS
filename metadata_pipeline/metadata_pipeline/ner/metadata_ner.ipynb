{
 "cells": [
  {
   "cell_type": "markdown",
   "metadata": {},
   "source": [
    "# Incorporate spacy NER and/or dependency parser\n",
    "\n",
    "PERSON\tPeople, including fictional.  \n",
    "NORP\tNationalities or religious or political groups.  \n",
    "FAC\tBuildings, airports, highways, bridges, etc.  \n",
    "ORG\tCompanies, agencies, institutions, etc.  \n",
    "GPE\tCountries, cities, states.  \n",
    "LOC\tNon-GPE locations, mountain ranges, bodies of water.  \n",
    "PRODUCT\tObjects, vehicles, foods, etc. (Not services.)  \n",
    "EVENT\tNamed hurricanes, battles, wars, sports events, etc.  \n",
    "WORK_OF_ART\tTitles of books, songs, etc.  \n",
    "LAW\tNamed documents made into laws.  \n",
    "LANGUAGE\tAny named language.  \n",
    "DATE\tAbsolute or relative dates or periods.  \n",
    "TIME\tTimes smaller than a day.  \n",
    "PERCENT\tPercentage, including ”%“.  \n",
    "MONEY\tMonetary values, including unit.  \n",
    "QUANTITY\tMeasurements, as of weight or distance.  \n",
    "ORDINAL\t“first”, “second”, etc.  \n",
    "CARDINAL\tNumerals that do not fall under another type.  "
   ]
  },
  {
   "cell_type": "code",
   "execution_count": 14,
   "metadata": {},
   "outputs": [
    {
     "data": {
      "text/plain": [
       "'MetricStream - Chubb Renewal Order Form vJan-8-2020.pdf_sentences.csv'"
      ]
     },
     "execution_count": 14,
     "metadata": {},
     "output_type": "execute_result"
    }
   ],
   "source": [
    "import pandas as pd\n",
    "from os import listdir\n",
    "from os.path import isfile, join\n",
    "\n",
    "\n",
    "#create contract list\n",
    "contract_path = 'C:\\\\Users\\\\Hello\\\\Desktop\\\\metric_stream\\\\v0.024\\\\metadata_pipeline\\\\results\\\\'\n",
    "contract_names = listdir(contract_path)\n",
    "\n",
    "\n",
    "contract_files = [contract_path + f for f in listdir(contract_path) if isfile(join(contract_path, f))]\n",
    "file_name_list = [f for f in listdir(contract_path)]\n",
    "contract_number = 1\n",
    "\n",
    "file_name_list[contract_number]"
   ]
  },
  {
   "cell_type": "code",
   "execution_count": 15,
   "metadata": {},
   "outputs": [],
   "source": [
    "#contract number in list. \n",
    "current_contract_file = contract_files[contract_number]\n",
    "current_file = file_name_list[contract_number]\n",
    "\n",
    "\n",
    "df_metadata = pd.read_csv(current_contract_file)\n",
    "#df_metadata.head()"
   ]
  },
  {
   "cell_type": "code",
   "execution_count": 16,
   "metadata": {},
   "outputs": [
    {
     "data": {
      "text/html": [
       "<div>\n",
       "<style scoped>\n",
       "    .dataframe tbody tr th:only-of-type {\n",
       "        vertical-align: middle;\n",
       "    }\n",
       "\n",
       "    .dataframe tbody tr th {\n",
       "        vertical-align: top;\n",
       "    }\n",
       "\n",
       "    .dataframe thead th {\n",
       "        text-align: right;\n",
       "    }\n",
       "</style>\n",
       "<table border=\"1\" class=\"dataframe\">\n",
       "  <thead>\n",
       "    <tr style=\"text-align: right;\">\n",
       "      <th></th>\n",
       "      <th>Category</th>\n",
       "      <th>Original Metadata</th>\n",
       "      <th>Metadata Match</th>\n",
       "      <th>Context</th>\n",
       "    </tr>\n",
       "  </thead>\n",
       "  <tbody>\n",
       "    <tr>\n",
       "      <td>0</td>\n",
       "      <td>['Agreement']</td>\n",
       "      <td>['Agreement Type']</td>\n",
       "      <td>['Amendment']</td>\n",
       "      <td>Printed Name: ________________________ Prin...</td>\n",
       "    </tr>\n",
       "    <tr>\n",
       "      <td>1</td>\n",
       "      <td>['Agreement']</td>\n",
       "      <td>['Type of Support']</td>\n",
       "      <td>['Type of Support']</td>\n",
       "      <td>Printed Name: ________________________ Prin...</td>\n",
       "    </tr>\n",
       "    <tr>\n",
       "      <td>2</td>\n",
       "      <td>['Date']</td>\n",
       "      <td>['Effective Date']</td>\n",
       "      <td>['Effective Date']</td>\n",
       "      <td>Printed Name: ________________________ Prin...</td>\n",
       "    </tr>\n",
       "    <tr>\n",
       "      <td>3</td>\n",
       "      <td>['Date']</td>\n",
       "      <td>['Effective Date']</td>\n",
       "      <td>['Effective Date']</td>\n",
       "      <td>Printed Name: ________________________ Prin...</td>\n",
       "    </tr>\n",
       "    <tr>\n",
       "      <td>4</td>\n",
       "      <td>['Date']</td>\n",
       "      <td>['Effective Date']</td>\n",
       "      <td>['Effective Date']</td>\n",
       "      <td>Printed Name: ________________________ Prin...</td>\n",
       "    </tr>\n",
       "  </tbody>\n",
       "</table>\n",
       "</div>"
      ],
      "text/plain": [
       "        Category    Original Metadata       Metadata Match  \\\n",
       "0  ['Agreement']   ['Agreement Type']        ['Amendment']   \n",
       "1  ['Agreement']  ['Type of Support']  ['Type of Support']   \n",
       "2       ['Date']   ['Effective Date']   ['Effective Date']   \n",
       "3       ['Date']   ['Effective Date']   ['Effective Date']   \n",
       "4       ['Date']   ['Effective Date']   ['Effective Date']   \n",
       "\n",
       "                                             Context  \n",
       "0     Printed Name: ________________________ Prin...  \n",
       "1     Printed Name: ________________________ Prin...  \n",
       "2     Printed Name: ________________________ Prin...  \n",
       "3     Printed Name: ________________________ Prin...  \n",
       "4     Printed Name: ________________________ Prin...  "
      ]
     },
     "execution_count": 16,
     "metadata": {},
     "output_type": "execute_result"
    }
   ],
   "source": [
    "df0 = df_metadata[['Metadata_Category', 'Metadata_Original', 'Metadata_Matches', 'Secondary_Context']]\n",
    "df0.columns = ['Category', 'Original Metadata', 'Metadata Match', 'Context']\n",
    "df0.head()"
   ]
  },
  {
   "cell_type": "code",
   "execution_count": 17,
   "metadata": {},
   "outputs": [],
   "source": [
    "#takes full metadata excel file and grabs a few categories for display.\n",
    "#can add or remove columns as needed\n",
    "\n",
    "def clean_df(df_metadata):\n",
    "    \n",
    "    #grab relevant columns\n",
    "    df0 = df_metadata[['Metadata_Category', 'Metadata_Original', 'Metadata_Matches', 'Secondary_Context']]\n",
    "    \n",
    "    #rename for clarity\n",
    "    df0.columns = ['Category', 'Original Metadata', 'Metadata Match', 'Context']\n",
    "    \n",
    "    categories = list(df0['Category'].unique())\n",
    "\n",
    "    df_clean = df0\n",
    "\n",
    "    for i,j in df_clean.iterrows():\n",
    "        metadata_cat_clean = j['Category'].replace('[', '').replace(']', '').replace(\"'\", \"\")\n",
    "        metadata_original_clean = j['Original Metadata'].replace('[', '').replace(']', '').replace(\"'\", \"\")\n",
    "        metadata_match_clean = j['Metadata Match'].replace('[', '').replace(']', '').replace(\"'\", \"\")\n",
    "\n",
    "\n",
    "        df_clean.at[i, 'Category'] = metadata_cat_clean\n",
    "        df_clean.at[i, 'Original Metadata'] = metadata_original_clean\n",
    "        df_clean.at[i, 'Metadata Match'] = metadata_match_clean\n",
    "        \n",
    "    return df_clean"
   ]
  },
  {
   "cell_type": "code",
   "execution_count": 18,
   "metadata": {},
   "outputs": [],
   "source": [
    "# core model\n",
    "# text and entity labels\n",
    "import spacy\n",
    "\n",
    "\n",
    "#association dictionary of spacy NER to metadata category\n",
    "dic_category_entity = {'Fee': 'MONEY', 'Time':'DATE', 'Person': 'PERSON', 'Product': 'PRODUCT', \\\n",
    "                       'Agreement': 'LAW', 'Financial': 'MONEY', 'Address': 'GPE'}\n",
    "\n",
    "\n",
    "\n",
    "#grab entities from context based on category\n",
    "def entity_extraction(df, entity_category_dic):\n",
    "    \n",
    "    nlp1 = spacy.load('en_core_web_sm')\n",
    "    entity_list_outer = []\n",
    "\n",
    "    for i,j in df.iterrows():\n",
    "        \n",
    "        entity_list = []\n",
    "        \n",
    "        if j['Category'] in entity_category_dic:\n",
    "            \n",
    "            text1 = nlp1(j['Context'])\n",
    "            \n",
    "            for i in text1.ents:\n",
    "                if i.label_ == entity_category_dic[j['Category']]:\n",
    "                    entity_list.append(i.text)\n",
    "                    \n",
    "        entity_list_outer.append(entity_list)\n",
    "      \n",
    "    df['Possible Matches'] = entity_list_outer   \n",
    "    \n",
    "    #df = df[df['Entities'].map(lambda d: len(d)) > 0]\n",
    "    \n",
    "    return df"
   ]
  },
  {
   "cell_type": "code",
   "execution_count": 19,
   "metadata": {},
   "outputs": [
    {
     "name": "stderr",
     "output_type": "stream",
     "text": [
      "C:\\Users\\Hello\\Anaconda3\\lib\\site-packages\\ipykernel_launcher.py:32: SettingWithCopyWarning: \n",
      "A value is trying to be set on a copy of a slice from a DataFrame.\n",
      "Try using .loc[row_indexer,col_indexer] = value instead\n",
      "\n",
      "See the caveats in the documentation: http://pandas.pydata.org/pandas-docs/stable/user_guide/indexing.html#returning-a-view-versus-a-copy\n"
     ]
    }
   ],
   "source": [
    "#Run cleaner, entity extraction, and write to file\n",
    "\n",
    "df_clean = clean_df(df_metadata)\n",
    "k1 = entity_extraction(df_clean, dic_category_entity)\n",
    "k1.to_csv(f'ner_results//out_{current_file}')"
   ]
  },
  {
   "cell_type": "code",
   "execution_count": null,
   "metadata": {},
   "outputs": [],
   "source": []
  },
  {
   "cell_type": "code",
   "execution_count": 14,
   "metadata": {},
   "outputs": [],
   "source": [
    "import pandas as pd\n",
    "from os import listdir\n",
    "from os.path import isfile, join\n",
    "import spacy\n",
    "\n",
    "df = pd.read_csv(r'C:\\Users\\Hello\\Desktop\\metric_stream\\v0.024\\metadata_pipeline\\results\\out_MetricStream - Chubb Renewal Order Form vJan-8-2020.pdf.csv')\n",
    "df = df.iloc[:,1:]"
   ]
  },
  {
   "cell_type": "code",
   "execution_count": 15,
   "metadata": {},
   "outputs": [
    {
     "data": {
      "text/html": [
       "<div>\n",
       "<style scoped>\n",
       "    .dataframe tbody tr th:only-of-type {\n",
       "        vertical-align: middle;\n",
       "    }\n",
       "\n",
       "    .dataframe tbody tr th {\n",
       "        vertical-align: top;\n",
       "    }\n",
       "\n",
       "    .dataframe thead th {\n",
       "        text-align: right;\n",
       "    }\n",
       "</style>\n",
       "<table border=\"1\" class=\"dataframe\">\n",
       "  <thead>\n",
       "    <tr style=\"text-align: right;\">\n",
       "      <th></th>\n",
       "      <th>Category</th>\n",
       "      <th>Original Metadata</th>\n",
       "      <th>Metadata Match</th>\n",
       "      <th>Context</th>\n",
       "      <th>Possible Matches</th>\n",
       "    </tr>\n",
       "  </thead>\n",
       "  <tbody>\n",
       "    <tr>\n",
       "      <td>0</td>\n",
       "      <td>Agreement</td>\n",
       "      <td>Agreement Type</td>\n",
       "      <td>Amendment</td>\n",
       "      <td>Printed Name: ________________________ Prin...</td>\n",
       "      <td>[]</td>\n",
       "    </tr>\n",
       "    <tr>\n",
       "      <td>1</td>\n",
       "      <td>Agreement</td>\n",
       "      <td>Type of Support</td>\n",
       "      <td>Type of Support</td>\n",
       "      <td>Printed Name: ________________________ Prin...</td>\n",
       "      <td>[]</td>\n",
       "    </tr>\n",
       "    <tr>\n",
       "      <td>2</td>\n",
       "      <td>Date</td>\n",
       "      <td>Effective Date</td>\n",
       "      <td>Effective Date</td>\n",
       "      <td>Printed Name: ________________________ Prin...</td>\n",
       "      <td>[]</td>\n",
       "    </tr>\n",
       "    <tr>\n",
       "      <td>3</td>\n",
       "      <td>Date</td>\n",
       "      <td>Effective Date</td>\n",
       "      <td>Effective Date</td>\n",
       "      <td>Printed Name: ________________________ Prin...</td>\n",
       "      <td>[]</td>\n",
       "    </tr>\n",
       "    <tr>\n",
       "      <td>4</td>\n",
       "      <td>Date</td>\n",
       "      <td>Term End Date</td>\n",
       "      <td>Term End Date</td>\n",
       "      <td>Printed Name: ________________________ Prin...</td>\n",
       "      <td>[]</td>\n",
       "    </tr>\n",
       "  </tbody>\n",
       "</table>\n",
       "</div>"
      ],
      "text/plain": [
       "    Category Original Metadata   Metadata Match  \\\n",
       "0  Agreement    Agreement Type        Amendment   \n",
       "1  Agreement   Type of Support  Type of Support   \n",
       "2       Date    Effective Date   Effective Date   \n",
       "3       Date    Effective Date   Effective Date   \n",
       "4       Date     Term End Date    Term End Date   \n",
       "\n",
       "                                             Context Possible Matches  \n",
       "0     Printed Name: ________________________ Prin...               []  \n",
       "1     Printed Name: ________________________ Prin...               []  \n",
       "2     Printed Name: ________________________ Prin...               []  \n",
       "3     Printed Name: ________________________ Prin...               []  \n",
       "4     Printed Name: ________________________ Prin...               []  "
      ]
     },
     "execution_count": 15,
     "metadata": {},
     "output_type": "execute_result"
    }
   ],
   "source": [
    "df.head()"
   ]
  },
  {
   "cell_type": "code",
   "execution_count": 13,
   "metadata": {},
   "outputs": [
    {
     "data": {
      "text/plain": [
       "'   Printed Name: ________________________ Printed Name: ______________________________  Title: _______________________________ Title: _____________________________________  Signature: ___________________________ Signature: _________________________________  Date: _______________________________ Date: _____________________________________   DocuSign Envelope ID: 9DDE25DE-875D-496A-9C65-FDBB797ADDDBJanuary 20, 2020Sarah SlatterySVP FinanceRand GreenblattJanuary 21, 2020Salil JainJanuary 21, 2020Chief Client Officer\\tEXHIBIT B-11\\tOrder Form for MetricStream Software License\\t\\t2020-01-21T17:46:42-0800\\tDigitally verifiable PDF exported from www.docusign.comSOFTWARE, SUPPORT AND SERVICES AGREEMENT Page 1 of 4 EXHIBIT B-11   Order Form for MetricStream Software License  Exhibit to the Software License, Support and Services Agreement and Amendment 1 to the Software License, Support and Services Agreement (“Agreement”) Between  MetricStream, Inc. (“Company”) and Chubb INA Holdings Inc., (f/n/a ACE INA Holdings Inc.), dated December 2, 2013  “Licensee”: Chubb INA Holdings Inc.  “Effective Date”: January 1, 2020    MetricStream Software:  MetricStream will provide Licensee licenses to the following MetricStream Software Modules:     \\uf0b7 QA Audit Management \\uf0b7 Vendor Management  Type of License: Subscription-based Cloud Services (as described in Exhibit D-1 of the Agreement)   “License Term”: Twelve (12) months from the Effective Date.  Pricing  License Fee Pricing:   Licensee Fees shall be based on the Pricing Table below.'"
      ]
     },
     "execution_count": 13,
     "metadata": {},
     "output_type": "execute_result"
    }
   ],
   "source": [
    "df['Context'][2]"
   ]
  },
  {
   "cell_type": "code",
   "execution_count": 17,
   "metadata": {},
   "outputs": [
    {
     "ename": "AttributeError",
     "evalue": "'spacy.tokens.doc.Doc' object has no attribute 'label_'",
     "output_type": "error",
     "traceback": [
      "\u001b[1;31m---------------------------------------------------------------------------\u001b[0m",
      "\u001b[1;31mAttributeError\u001b[0m                            Traceback (most recent call last)",
      "\u001b[1;32m<ipython-input-17-7cb9ac420219>\u001b[0m in \u001b[0;36m<module>\u001b[1;34m\u001b[0m\n\u001b[0;32m      1\u001b[0m \u001b[0mnlp0\u001b[0m \u001b[1;33m=\u001b[0m \u001b[0mspacy\u001b[0m\u001b[1;33m.\u001b[0m\u001b[0mload\u001b[0m\u001b[1;33m(\u001b[0m\u001b[1;34m'en_core_web_sm'\u001b[0m\u001b[1;33m)\u001b[0m\u001b[1;33m\u001b[0m\u001b[1;33m\u001b[0m\u001b[0m\n\u001b[0;32m      2\u001b[0m \u001b[0mtext0\u001b[0m \u001b[1;33m=\u001b[0m \u001b[0mnlp0\u001b[0m\u001b[1;33m(\u001b[0m\u001b[0mdf\u001b[0m\u001b[1;33m.\u001b[0m\u001b[0mContext\u001b[0m\u001b[1;33m[\u001b[0m\u001b[1;36m2\u001b[0m\u001b[1;33m]\u001b[0m\u001b[1;33m)\u001b[0m\u001b[1;33m\u001b[0m\u001b[1;33m\u001b[0m\u001b[0m\n\u001b[1;32m----> 3\u001b[1;33m \u001b[0mlist\u001b[0m\u001b[1;33m(\u001b[0m\u001b[0mtext0\u001b[0m\u001b[1;33m.\u001b[0m\u001b[0mlabel_\u001b[0m \u001b[1;33m,\u001b[0m \u001b[0mtext0\u001b[0m\u001b[1;33m.\u001b[0m\u001b[0mtext\u001b[0m\u001b[1;33m)\u001b[0m\u001b[1;33m\u001b[0m\u001b[1;33m\u001b[0m\u001b[0m\n\u001b[0m",
      "\u001b[1;31mAttributeError\u001b[0m: 'spacy.tokens.doc.Doc' object has no attribute 'label_'"
     ]
    }
   ],
   "source": [
    "nlp0 = spacy.load('en_core_web_sm')\n",
    "text0 = nlp0(df.Context[2])\n",
    "for i in text0.ents:\n",
    "    print(i, i.label_)"
   ]
  },
  {
   "cell_type": "code",
   "execution_count": null,
   "metadata": {},
   "outputs": [],
   "source": [
    "import spacy\n",
    "\n",
    "dic_category_entity = {'Fee': 'MONEY', 'Time':'DATE', 'Person': 'PERSON', 'Product': 'PRODUCT', \\\n",
    "                       'Agreement': 'LAW', 'Financial': 'MONEY', 'Address': 'GPE'}\n",
    "\n",
    "def entity_extraction(df, entity_category_dic):\n",
    "    \n",
    "    nlp1 = spacy.load('en_core_web_sm')\n",
    "    entity_list_outer = []\n",
    "\n",
    "    for i,j in df.iterrows():\n",
    "        \n",
    "        entity_list = []\n",
    "        \n",
    "        if j['Category'] in entity_category_dic:\n",
    "            \n",
    "            text1 = nlp1(j['Context'])\n",
    "            \n",
    "            for i in text1.ents:\n",
    "                if i.label_ == entity_category_dic[j['Category']]:\n",
    "                    entity_list.append(i.text)\n",
    "                    \n",
    "        entity_list_outer.append(entity_list)\n",
    "      \n",
    "    df['Possible Matches'] = entity_list_outer   \n",
    "    \n",
    "    #df = df[df['Entities'].map(lambda d: len(d)) > 0]\n",
    "    \n",
    "    return df"
   ]
  }
 ],
 "metadata": {
  "kernelspec": {
   "display_name": "Python 3",
   "language": "python",
   "name": "python3"
  },
  "language_info": {
   "codemirror_mode": {
    "name": "ipython",
    "version": 3
   },
   "file_extension": ".py",
   "mimetype": "text/x-python",
   "name": "python",
   "nbconvert_exporter": "python",
   "pygments_lexer": "ipython3",
   "version": "3.7.4"
  }
 },
 "nbformat": 4,
 "nbformat_minor": 2
}
